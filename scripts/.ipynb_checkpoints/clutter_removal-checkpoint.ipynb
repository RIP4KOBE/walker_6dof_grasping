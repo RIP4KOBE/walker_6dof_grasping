{
 "cells": [
  {
   "cell_type": "markdown",
   "metadata": {},
   "source": [
    "# Clutter Removal Experiment\n",
    "\n",
    "Use this notebook to analyze the results of a clutter removal experiment."
   ]
  },
  {
   "cell_type": "code",
   "execution_count": null,
   "metadata": {},
   "outputs": [],
   "source": [
    "import os\n",
    "os.chdir('..')"
   ]
  },
  {
   "cell_type": "code",
   "execution_count": null,
   "metadata": {},
   "outputs": [],
   "source": [
    "from pathlib import Path\n",
    "\n",
    "from vgn.experiments import clutter_removal"
   ]
  },
  {
   "cell_type": "markdown",
   "metadata": {},
   "source": [
    "Path to the log directory of the experiment."
   ]
  },
  {
   "cell_type": "code",
   "execution_count": null,
   "metadata": {},
   "outputs": [],
   "source": [
    "logdir = Path(\"data/experiments/...\")"
   ]
  },
  {
   "cell_type": "code",
   "execution_count": null,
   "metadata": {},
   "outputs": [],
   "source": [
    "data = clutter_removal.Data(logdir)"
   ]
  },
  {
   "cell_type": "markdown",
   "metadata": {},
   "source": [
    "First, we compute the following metrics for the experiment:\n",
    "\n",
    "* **Success rate**: the ratio of successful grasp executions,\n",
    "* **Percent cleared**: the percentage of objects removed during each round,\n",
    "* **Planning time**: the time between receiving a voxel grid/point cloud and returning a list of grasp candidates."
   ]
  },
  {
   "cell_type": "code",
   "execution_count": null,
   "metadata": {},
   "outputs": [],
   "source": [
    "print(\"Num grasps:        \", data.num_grasps())\n",
    "print(\"Success rate:      \", data.success_rate())\n",
    "print(\"Percent cleared:   \", data.percent_cleared())\n",
    "print(\"Avg planning time: \", data.avg_planning_time())"
   ]
  },
  {
   "cell_type": "markdown",
   "metadata": {},
   "source": [
    "Next, we visualize the failure cases. Make sure to have a ROS core running and open `config/sim.rviz` in RViz."
   ]
  },
  {
   "cell_type": "code",
   "execution_count": null,
   "metadata": {},
   "outputs": [],
   "source": [
    "import rospy\n",
    "from vgn import vis\n",
    "\n",
    "rospy.init_node(\"vgn_vis\", anonymous=True)"
   ]
  },
  {
   "cell_type": "code",
   "execution_count": null,
   "metadata": {},
   "outputs": [],
   "source": [
    "failures = data.grasps[data.grasps[\"label\"] == 0].index.tolist()\n",
    "iterator = iter(failures)"
   ]
  },
  {
   "cell_type": "code",
   "execution_count": null,
   "metadata": {},
   "outputs": [],
   "source": [
    "i = next(iterator)\n",
    "points, grasp, score, label = data.read_grasp(i)\n",
    "\n",
    "vis.clear()\n",
    "vis.draw_workspace(0.3)\n",
    "vis.draw_points(points)\n",
    "vis.draw_grasp(grasp, label, 0.05)"
   ]
  },
  {
   "cell_type": "code",
   "execution_count": null,
   "metadata": {},
   "outputs": [],
   "source": []
  }
 ],
 "metadata": {
  "kernelspec": {
   "display_name": "Python 3.8.5 64-bit ('.venv': venv)",
   "language": "python",
   "name": "python38564bitvenvvenv2d78cfb0a4ba445b83a6b28586011a65"
  },
  "language_info": {
   "codemirror_mode": {
    "name": "ipython",
    "version": 3
   },
   "file_extension": ".py",
   "mimetype": "text/x-python",
   "name": "python",
   "nbconvert_exporter": "python",
   "pygments_lexer": "ipython3",
   "version": "3.8.5"
  }
 },
 "nbformat": 4,
 "nbformat_minor": 4
}
